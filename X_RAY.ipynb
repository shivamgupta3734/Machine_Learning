{
  "nbformat": 4,
  "nbformat_minor": 0,
  "metadata": {
    "colab": {
      "name": "X-RAY.ipynb",
      "provenance": [],
      "collapsed_sections": [],
      "authorship_tag": "ABX9TyNIbLk8BX9yqID5GZEyW5Iv",
      "include_colab_link": true
    },
    "kernelspec": {
      "name": "python3",
      "display_name": "Python 3"
    },
    "accelerator": "GPU"
  },
  "cells": [
    {
      "cell_type": "markdown",
      "metadata": {
        "id": "view-in-github",
        "colab_type": "text"
      },
      "source": [
        "<a href=\"https://colab.research.google.com/github/shivamgupta3734/Machine_Learning/blob/master/X_RAY.ipynb\" target=\"_parent\"><img src=\"https://colab.research.google.com/assets/colab-badge.svg\" alt=\"Open In Colab\"/></a>"
      ]
    },
    {
      "cell_type": "markdown",
      "metadata": {
        "id": "Bn643mrzlIQO"
      },
      "source": [
        ""
      ]
    },
    {
      "cell_type": "code",
      "metadata": {
        "colab": {
          "base_uri": "https://localhost:8080/"
        },
        "id": "iUhvqRD8EZ1T",
        "outputId": "43d40e38-f2d5-47ba-f17a-bf13c350c3d3"
      },
      "source": [
        "!wget https://www.dropbox.com/s/qvtjpn5qa85rq30/dataset.zip?dl=0"
      ],
      "execution_count": null,
      "outputs": [
        {
          "output_type": "stream",
          "text": [
            "--2020-11-25 04:06:29--  https://www.dropbox.com/s/qvtjpn5qa85rq30/dataset.zip?dl=0\n",
            "Resolving www.dropbox.com (www.dropbox.com)... 162.125.1.1, 2620:100:6016:1::a27d:101\n",
            "Connecting to www.dropbox.com (www.dropbox.com)|162.125.1.1|:443... connected.\n",
            "HTTP request sent, awaiting response... 301 Moved Permanently\n",
            "Location: /s/raw/qvtjpn5qa85rq30/dataset.zip [following]\n",
            "--2020-11-25 04:06:29--  https://www.dropbox.com/s/raw/qvtjpn5qa85rq30/dataset.zip\n",
            "Reusing existing connection to www.dropbox.com:443.\n",
            "HTTP request sent, awaiting response... 302 Found\n",
            "Location: https://uc87fc3a45ac263a33b14356a090.dl.dropboxusercontent.com/cd/0/inline/BD3IP8X_javyofuYztohdrxVdHUwia2Mc-Jsv3bQpACykyGq1-ZrcqK04P2MVr6dJb0_ZrlD-aBoAdtCE3cVEuEYQxLM4iVo0HklnN2Sgo3iqdhAEKrwP44gaWBbd9MNxto/file# [following]\n",
            "--2020-11-25 04:06:30--  https://uc87fc3a45ac263a33b14356a090.dl.dropboxusercontent.com/cd/0/inline/BD3IP8X_javyofuYztohdrxVdHUwia2Mc-Jsv3bQpACykyGq1-ZrcqK04P2MVr6dJb0_ZrlD-aBoAdtCE3cVEuEYQxLM4iVo0HklnN2Sgo3iqdhAEKrwP44gaWBbd9MNxto/file\n",
            "Resolving uc87fc3a45ac263a33b14356a090.dl.dropboxusercontent.com (uc87fc3a45ac263a33b14356a090.dl.dropboxusercontent.com)... 162.125.1.15, 2620:100:6016:15::a27d:10f\n",
            "Connecting to uc87fc3a45ac263a33b14356a090.dl.dropboxusercontent.com (uc87fc3a45ac263a33b14356a090.dl.dropboxusercontent.com)|162.125.1.15|:443... connected.\n",
            "HTTP request sent, awaiting response... 302 Found\n",
            "Location: /cd/0/inline2/BD25AsKZbVnCkOYdxBZuCdeQ-qRy3q2MfvujBXuitD5fagMxvPppAw-vCIsCzcupdgpLBmWBL0uqMPu0NcDCX6wu_g9gdRaCEEphl3S1CAh5pai905kprCGuHl1y67oEjCJ-99xKJdu4i5wzJioY-eemKbJcvq_nKJs8F3sAzlGhXn07jeslCt56IsqP17cVrh-CvqdeujQmMBrDf1abOgg1vG8wm2UPONKgc9i_8ZCE85olSdrtnAl6YjCBX0YXwElEqVKMWHBjbexZ0QYKEnMWOUDslWD7s7Kyy3R0o87zDh1Y0ySuOZ-TlfvQIFQ4nKhRgKIJo7LG6GVD26pLv64CsomM8ndmRajHVBZDELneyg/file [following]\n",
            "--2020-11-25 04:06:30--  https://uc87fc3a45ac263a33b14356a090.dl.dropboxusercontent.com/cd/0/inline2/BD25AsKZbVnCkOYdxBZuCdeQ-qRy3q2MfvujBXuitD5fagMxvPppAw-vCIsCzcupdgpLBmWBL0uqMPu0NcDCX6wu_g9gdRaCEEphl3S1CAh5pai905kprCGuHl1y67oEjCJ-99xKJdu4i5wzJioY-eemKbJcvq_nKJs8F3sAzlGhXn07jeslCt56IsqP17cVrh-CvqdeujQmMBrDf1abOgg1vG8wm2UPONKgc9i_8ZCE85olSdrtnAl6YjCBX0YXwElEqVKMWHBjbexZ0QYKEnMWOUDslWD7s7Kyy3R0o87zDh1Y0ySuOZ-TlfvQIFQ4nKhRgKIJo7LG6GVD26pLv64CsomM8ndmRajHVBZDELneyg/file\n",
            "Reusing existing connection to uc87fc3a45ac263a33b14356a090.dl.dropboxusercontent.com:443.\n",
            "HTTP request sent, awaiting response... 200 OK\n",
            "Length: 225034904 (215M) [application/zip]\n",
            "Saving to: ‘dataset.zip?dl=0’\n",
            "\n",
            "dataset.zip?dl=0    100%[===================>] 214.61M  66.9MB/s    in 3.2s    \n",
            "\n",
            "2020-11-25 04:06:34 (66.9 MB/s) - ‘dataset.zip?dl=0’ saved [225034904/225034904]\n",
            "\n"
          ],
          "name": "stdout"
        }
      ]
    },
    {
      "cell_type": "code",
      "metadata": {
        "colab": {
          "base_uri": "https://localhost:8080/"
        },
        "id": "LOhFbzltEiZq",
        "outputId": "02e53666-4bb9-43db-9e57-a032a95cb23e"
      },
      "source": [
        "!unzip dataset.zip?dl=0"
      ],
      "execution_count": null,
      "outputs": [
        {
          "output_type": "stream",
          "text": [
            "Archive:  dataset.zip?dl=0\n",
            "   creating: dataset/Test/\n",
            "   creating: dataset/Test/Covid-19 test/\n",
            "  inflating: dataset/Test/Covid-19 test/COVID-19 (117).png  \n",
            "  inflating: dataset/Test/Covid-19 test/COVID-19 (121).png  \n",
            "  inflating: dataset/Test/Covid-19 test/COVID-19(134).png  \n",
            "  inflating: dataset/Test/Covid-19 test/COVID-19(136).png  \n",
            "  inflating: dataset/Test/Covid-19 test/COVID-19(144).png  \n",
            "  inflating: dataset/Test/Covid-19 test/COVID-19(150).png  \n",
            "  inflating: dataset/Test/Covid-19 test/COVID-19(155).png  \n",
            "  inflating: dataset/Test/Covid-19 test/COVID-19(163).png  \n",
            "  inflating: dataset/Test/Covid-19 test/COVID-19(181).png  \n",
            "  inflating: dataset/Test/Covid-19 test/COVID-19(182).png  \n",
            "  inflating: dataset/Test/Covid-19 test/COVID-19(183).png  \n",
            "  inflating: dataset/Test/Covid-19 test/COVID-19(200).png  \n",
            "  inflating: dataset/Test/Covid-19 test/COVID-19(211).png  \n",
            "   creating: dataset/Test/Normal test/\n",
            "  inflating: dataset/Test/Normal test/NORMAL (1279).png  \n",
            "  inflating: dataset/Test/Normal test/NORMAL (1280).png  \n",
            "  inflating: dataset/Test/Normal test/NORMAL (1281).png  \n",
            "  inflating: dataset/Test/Normal test/NORMAL (1282).png  \n",
            "  inflating: dataset/Test/Normal test/NORMAL (1283).png  \n",
            "  inflating: dataset/Test/Normal test/NORMAL (1284).png  \n",
            "  inflating: dataset/Test/Normal test/NORMAL (1285).png  \n",
            "  inflating: dataset/Test/Normal test/NORMAL (1286).png  \n",
            "  inflating: dataset/Test/Normal test/NORMAL (1287).png  \n",
            "  inflating: dataset/Test/Normal test/NORMAL (899).png  \n",
            "   creating: dataset/Train/\n",
            "   creating: dataset/Train/Covid-19/\n",
            "  inflating: dataset/Train/Covid-19/000001.jpg  \n",
            "  inflating: dataset/Train/Covid-19/000001.png  \n",
            "  inflating: dataset/Train/Covid-19/000001-1.jpg  \n",
            "  inflating: dataset/Train/Covid-19/000001-1.png  \n",
            "  inflating: dataset/Train/Covid-19/000001-10.jpg  \n",
            "  inflating: dataset/Train/Covid-19/000001-11.jpg  \n",
            "  inflating: dataset/Train/Covid-19/000001-12.jpg  \n",
            "  inflating: dataset/Train/Covid-19/000001-13.jpg  \n",
            "  inflating: dataset/Train/Covid-19/000001-15.jpg  \n",
            "  inflating: dataset/Train/Covid-19/000001-17.jpg  \n",
            "  inflating: dataset/Train/Covid-19/000001-18.jpg  \n",
            "  inflating: dataset/Train/Covid-19/000001-2.jpg  \n",
            "  inflating: dataset/Train/Covid-19/000001-20.jpg  \n",
            "  inflating: dataset/Train/Covid-19/000001-24.jpg  \n",
            "  inflating: dataset/Train/Covid-19/000001-266.jpg  \n",
            "  inflating: dataset/Train/Covid-19/000001-272.jpg  \n",
            "  inflating: dataset/Train/Covid-19/000001-3.jpg  \n",
            "  inflating: dataset/Train/Covid-19/000001-4.jpg  \n",
            "  inflating: dataset/Train/Covid-19/000001-4.png  \n",
            "  inflating: dataset/Train/Covid-19/000001-5.png  \n",
            "  inflating: dataset/Train/Covid-19/000001-6.jpg  \n",
            "  inflating: dataset/Train/Covid-19/000001-7.jpg  \n",
            "  inflating: dataset/Train/Covid-19/000001-8.jpg  \n",
            "  inflating: dataset/Train/Covid-19/000001-9-a.jpg  \n",
            "  inflating: dataset/Train/Covid-19/01E392EE-69F9-4E33-BFCE-E5C968654078.jpeg  \n",
            "  inflating: dataset/Train/Covid-19/01ec02c48ce0120d57456b2ee2d02f_jumbo.jpeg  \n",
            "  inflating: dataset/Train/Covid-19/0a6c60063b4bae4de001caaba306d1_jumbo.jpeg  \n",
            "  inflating: dataset/Train/Covid-19/0a7faa2a.jpg  \n",
            "  inflating: dataset/Train/Covid-19/1.CXRCTThoraximagesofCOVID-19fromSingapore.pdf-000-fig1a.png  \n",
            "  inflating: dataset/Train/Covid-19/1.CXRCTThoraximagesofCOVID-19fromSingapore.pdf-000-fig1b.png  \n",
            "  inflating: dataset/Train/Covid-19/1.CXRCTThoraximagesofCOVID-19fromSingapore.pdf-001-fig2a.png  \n",
            "  inflating: dataset/Train/Covid-19/1.CXRCTThoraximagesofCOVID-19fromSingapore.pdf-001-fig2b.png  \n",
            "  inflating: dataset/Train/Covid-19/1.CXRCTThoraximagesofCOVID-19fromSingapore.pdf-002-fig3a.png  \n",
            "  inflating: dataset/Train/Covid-19/1.CXRCTThoraximagesofCOVID-19fromSingapore.pdf-002-fig3b.png  \n",
            "  inflating: dataset/Train/Covid-19/1.CXRCTThoraximagesofCOVID-19fromSingapore.pdf-003-fig4a.png  \n",
            "  inflating: dataset/Train/Covid-19/1.CXRCTThoraximagesofCOVID-19fromSingapore.pdf-003-fig4b.png  \n",
            "  inflating: dataset/Train/Covid-19/1ae7877e.jpg  \n",
            "  inflating: dataset/Train/Covid-19/1B734A89-A1BF-49A8-A1D3-66FAFA4FAC5D.jpeg  \n",
            "  inflating: dataset/Train/Covid-19/1d435a4b.jpg  \n",
            "  inflating: dataset/Train/Covid-19/1d6c4b7c.jpg  \n",
            "  inflating: dataset/Train/Covid-19/1e64990d1b40c1758a2aaa9c7f7a85_jumbo.jpeg  \n",
            "  inflating: dataset/Train/Covid-19/1F6343EE-AFEC-4B7D-97F5-62797EE18767.jpeg  \n",
            "  inflating: dataset/Train/Covid-19/1-s2.0-S0378603X1500248X-gr2a.jpg  \n",
            "  inflating: dataset/Train/Covid-19/1-s2.0-S0378603X1500248X-gr2b.jpg  \n",
            "  inflating: dataset/Train/Covid-19/1-s2.0-S0378603X1500248X-gr2c.jpg  \n",
            "  inflating: dataset/Train/Covid-19/1-s2.0-S0378603X1500248X-gr2d.jpg  \n",
            "  inflating: dataset/Train/Covid-19/1-s2.0-S0378603X1500248X-gr3a.jpg  \n",
            "  inflating: dataset/Train/Covid-19/1-s2.0-S0378603X1500248X-gr3b.jpg  \n",
            "  inflating: dataset/Train/Covid-19/1-s2.0-S0378603X1500248X-gr3d.jpg  \n",
            "  inflating: dataset/Train/Covid-19/1-s2.0-S0378603X1500248X-gr4a.jpg  \n",
            "  inflating: dataset/Train/Covid-19/1-s2.0-S0378603X1500248X-gr4c.jpg  \n",
            "  inflating: dataset/Train/Covid-19/1-s2.0-S0378603X1500248X-gr4e.jpg  \n",
            "  inflating: dataset/Train/Covid-19/1-s2.0-S1341321X20301124-gr3_lrg-a.png  \n",
            "  inflating: dataset/Train/Covid-19/1-s2.0-S1341321X20301124-gr3_lrg-b.png  \n",
            "  inflating: dataset/Train/Covid-19/1-s2.0-S1341321X20301124-gr3_lrg-c.png  \n",
            "  inflating: dataset/Train/Covid-19/5931B64A-7B97-485D-BE60-3F1EA76BC4F0.jpeg  \n",
            "  inflating: dataset/Train/Covid-19/COVID-19 (1).png  \n",
            "  inflating: dataset/Train/Covid-19/COVID-19 (10).png  \n",
            "  inflating: dataset/Train/Covid-19/COVID-19 (100).png  \n",
            "  inflating: dataset/Train/Covid-19/COVID-19 (101).png  \n",
            "  inflating: dataset/Train/Covid-19/COVID-19 (102).png  \n",
            "  inflating: dataset/Train/Covid-19/COVID-19 (103).png  \n",
            "  inflating: dataset/Train/Covid-19/COVID-19 (104).png  \n",
            "  inflating: dataset/Train/Covid-19/COVID-19 (105).png  \n",
            "  inflating: dataset/Train/Covid-19/COVID-19 (106).png  \n",
            "  inflating: dataset/Train/Covid-19/COVID-19 (107).png  \n",
            "  inflating: dataset/Train/Covid-19/COVID-19 (108).png  \n",
            "  inflating: dataset/Train/Covid-19/COVID-19 (109).png  \n",
            "  inflating: dataset/Train/Covid-19/COVID-19 (11).png  \n",
            "  inflating: dataset/Train/Covid-19/COVID-19 (110).png  \n",
            "  inflating: dataset/Train/Covid-19/COVID-19 (111).png  \n",
            "  inflating: dataset/Train/Covid-19/COVID-19 (112).png  \n",
            "  inflating: dataset/Train/Covid-19/COVID-19 (113).png  \n",
            "  inflating: dataset/Train/Covid-19/COVID-19 (114).png  \n",
            "  inflating: dataset/Train/Covid-19/COVID-19 (115).png  \n",
            "  inflating: dataset/Train/Covid-19/COVID-19 (116).png  \n",
            "  inflating: dataset/Train/Covid-19/COVID-19 (118).png  \n",
            "  inflating: dataset/Train/Covid-19/COVID-19 (119).png  \n",
            "  inflating: dataset/Train/Covid-19/COVID-19 (12).png  \n",
            "  inflating: dataset/Train/Covid-19/COVID-19 (120).png  \n",
            "  inflating: dataset/Train/Covid-19/COVID-19 (122).png  \n",
            "  inflating: dataset/Train/Covid-19/COVID-19 (123).png  \n",
            "  inflating: dataset/Train/Covid-19/COVID-19 (124).png  \n",
            "  inflating: dataset/Train/Covid-19/COVID-19 (125).png  \n",
            "  inflating: dataset/Train/Covid-19/COVID-19 (126).png  \n",
            "  inflating: dataset/Train/Covid-19/COVID-19 (127).png  \n",
            "  inflating: dataset/Train/Covid-19/COVID-19 (128).png  \n",
            "  inflating: dataset/Train/Covid-19/COVID-19 (129).png  \n",
            "  inflating: dataset/Train/Covid-19/COVID-19 (13).png  \n",
            "  inflating: dataset/Train/Covid-19/COVID-19 (130).png  \n",
            "  inflating: dataset/Train/Covid-19/COVID-19 (131).png  \n",
            "  inflating: dataset/Train/Covid-19/COVID-19 (132).png  \n",
            "  inflating: dataset/Train/Covid-19/COVID-19 (133).png  \n",
            "  inflating: dataset/Train/Covid-19/COVID-19 (14).png  \n",
            "  inflating: dataset/Train/Covid-19/COVID-19 (16).png  \n",
            "  inflating: dataset/Train/Covid-19/COVID-19 (18).png  \n",
            "  inflating: dataset/Train/Covid-19/COVID-19 (19).png  \n",
            "  inflating: dataset/Train/Covid-19/COVID-19 (2).png  \n",
            "  inflating: dataset/Train/Covid-19/COVID-19 (20).png  \n",
            "  inflating: dataset/Train/Covid-19/COVID-19 (21).png  \n",
            "  inflating: dataset/Train/Covid-19/COVID-19 (22).png  \n",
            "  inflating: dataset/Train/Covid-19/COVID-19 (23).png  \n",
            "  inflating: dataset/Train/Covid-19/COVID-19 (24).png  \n",
            "  inflating: dataset/Train/Covid-19/COVID-19 (25).png  \n",
            "  inflating: dataset/Train/Covid-19/COVID-19 (26).png  \n",
            "  inflating: dataset/Train/Covid-19/COVID-19 (28).png  \n",
            "  inflating: dataset/Train/Covid-19/COVID-19 (29).png  \n",
            "  inflating: dataset/Train/Covid-19/COVID-19 (3).png  \n",
            "  inflating: dataset/Train/Covid-19/COVID-19 (31).png  \n",
            "  inflating: dataset/Train/Covid-19/COVID-19 (34).png  \n",
            "  inflating: dataset/Train/Covid-19/COVID-19 (36).png  \n",
            "  inflating: dataset/Train/Covid-19/COVID-19 (38).png  \n",
            "  inflating: dataset/Train/Covid-19/COVID-19 (39).png  \n",
            "  inflating: dataset/Train/Covid-19/COVID-19 (4).png  \n",
            "  inflating: dataset/Train/Covid-19/COVID-19 (40).png  \n",
            "  inflating: dataset/Train/Covid-19/COVID-19 (41).png  \n",
            "  inflating: dataset/Train/Covid-19/COVID-19 (42).png  \n",
            "  inflating: dataset/Train/Covid-19/COVID-19 (43).png  \n",
            "  inflating: dataset/Train/Covid-19/COVID-19 (44).png  \n",
            "  inflating: dataset/Train/Covid-19/COVID-19 (45).png  \n",
            "  inflating: dataset/Train/Covid-19/COVID-19 (46).png  \n",
            "  inflating: dataset/Train/Covid-19/COVID-19 (47).png  \n",
            "  inflating: dataset/Train/Covid-19/COVID-19 (48).png  \n",
            "  inflating: dataset/Train/Covid-19/COVID-19 (49).png  \n",
            "  inflating: dataset/Train/Covid-19/COVID-19 (5).png  \n",
            "  inflating: dataset/Train/Covid-19/COVID-19 (50).png  \n",
            "  inflating: dataset/Train/Covid-19/COVID-19 (51).png  \n",
            "  inflating: dataset/Train/Covid-19/COVID-19 (52).png  \n",
            "  inflating: dataset/Train/Covid-19/COVID-19 (53).png  \n",
            "  inflating: dataset/Train/Covid-19/COVID-19 (54).png  \n",
            "  inflating: dataset/Train/Covid-19/COVID-19 (55).png  \n",
            "  inflating: dataset/Train/Covid-19/COVID-19 (56).png  \n",
            "  inflating: dataset/Train/Covid-19/COVID-19 (58).png  \n",
            "  inflating: dataset/Train/Covid-19/COVID-19 (59).png  \n",
            "  inflating: dataset/Train/Covid-19/COVID-19 (6).png  \n",
            "  inflating: dataset/Train/Covid-19/COVID-19 (61).png  \n",
            "  inflating: dataset/Train/Covid-19/COVID-19 (63).png  \n",
            "  inflating: dataset/Train/Covid-19/COVID-19 (64).png  \n",
            "  inflating: dataset/Train/Covid-19/COVID-19 (65).png  \n",
            "  inflating: dataset/Train/Covid-19/COVID-19 (66).png  \n",
            "  inflating: dataset/Train/Covid-19/COVID-19 (67).png  \n",
            "  inflating: dataset/Train/Covid-19/COVID-19 (68).png  \n",
            "  inflating: dataset/Train/Covid-19/COVID-19 (69).png  \n",
            "  inflating: dataset/Train/Covid-19/COVID-19 (7).png  \n",
            "  inflating: dataset/Train/Covid-19/COVID-19 (70).png  \n",
            "  inflating: dataset/Train/Covid-19/COVID-19 (71).png  \n",
            "  inflating: dataset/Train/Covid-19/COVID-19 (72).png  \n",
            "  inflating: dataset/Train/Covid-19/COVID-19 (73).png  \n",
            "  inflating: dataset/Train/Covid-19/COVID-19 (74).png  \n",
            "  inflating: dataset/Train/Covid-19/COVID-19 (75).png  \n",
            "  inflating: dataset/Train/Covid-19/COVID-19 (76).png  \n",
            "  inflating: dataset/Train/Covid-19/COVID-19 (77).png  \n",
            "  inflating: dataset/Train/Covid-19/COVID-19 (78).png  \n",
            "  inflating: dataset/Train/Covid-19/COVID-19 (79).png  \n",
            "  inflating: dataset/Train/Covid-19/COVID-19 (8).png  \n",
            "  inflating: dataset/Train/Covid-19/COVID-19 (80).png  \n",
            "  inflating: dataset/Train/Covid-19/COVID-19 (81).png  \n",
            "  inflating: dataset/Train/Covid-19/COVID-19 (82).png  \n",
            "  inflating: dataset/Train/Covid-19/COVID-19 (83).png  \n",
            "  inflating: dataset/Train/Covid-19/COVID-19 (84).png  \n",
            "  inflating: dataset/Train/Covid-19/COVID-19 (85).png  \n",
            "  inflating: dataset/Train/Covid-19/COVID-19 (86).png  \n",
            "  inflating: dataset/Train/Covid-19/COVID-19 (87).png  \n",
            "  inflating: dataset/Train/Covid-19/COVID-19 (88).png  \n",
            "  inflating: dataset/Train/Covid-19/COVID-19 (89).png  \n",
            "  inflating: dataset/Train/Covid-19/COVID-19 (9).png  \n",
            "  inflating: dataset/Train/Covid-19/COVID-19 (90).png  \n",
            "  inflating: dataset/Train/Covid-19/COVID-19 (91).png  \n",
            "  inflating: dataset/Train/Covid-19/COVID-19 (92).png  \n",
            "  inflating: dataset/Train/Covid-19/COVID-19 (93).png  \n",
            "  inflating: dataset/Train/Covid-19/COVID-19 (94).png  \n",
            "  inflating: dataset/Train/Covid-19/COVID-19 (95).png  \n",
            "  inflating: dataset/Train/Covid-19/COVID-19 (96).png  \n",
            "  inflating: dataset/Train/Covid-19/COVID-19 (97).png  \n",
            "  inflating: dataset/Train/Covid-19/COVID-19 (98).png  \n",
            "  inflating: dataset/Train/Covid-19/COVID-19 (99).png  \n",
            "  inflating: dataset/Train/Covid-19/COVID-19(137).png  \n",
            "  inflating: dataset/Train/Covid-19/COVID-19(138).png  \n",
            "  inflating: dataset/Train/Covid-19/COVID-19(139).png  \n",
            "  inflating: dataset/Train/Covid-19/COVID-19(140).png  \n",
            "  inflating: dataset/Train/Covid-19/COVID-19(143).png  \n",
            "  inflating: dataset/Train/Covid-19/COVID-19(145).png  \n",
            "  inflating: dataset/Train/Covid-19/COVID-19(146).png  \n",
            "  inflating: dataset/Train/Covid-19/COVID-19(147).png  \n",
            "  inflating: dataset/Train/Covid-19/COVID-19(148).png  \n",
            "  inflating: dataset/Train/Covid-19/COVID-19(149).png  \n",
            "  inflating: dataset/Train/Covid-19/COVID-19(151).png  \n",
            "  inflating: dataset/Train/Covid-19/COVID-19(152).png  \n",
            "  inflating: dataset/Train/Covid-19/COVID-19(153).png  \n",
            "  inflating: dataset/Train/Covid-19/COVID-19(154).png  \n",
            "  inflating: dataset/Train/Covid-19/COVID-19(156).png  \n",
            "  inflating: dataset/Train/Covid-19/COVID-19(157).png  \n",
            "  inflating: dataset/Train/Covid-19/COVID-19(158).png  \n",
            "  inflating: dataset/Train/Covid-19/COVID-19(159).png  \n",
            "  inflating: dataset/Train/Covid-19/COVID-19(160).png  \n",
            "  inflating: dataset/Train/Covid-19/COVID-19(161).png  \n",
            "  inflating: dataset/Train/Covid-19/COVID-19(162).png  \n",
            "  inflating: dataset/Train/Covid-19/COVID-19(164).png  \n",
            "  inflating: dataset/Train/Covid-19/COVID-19(165).png  \n",
            "  inflating: dataset/Train/Covid-19/COVID-19(166).png  \n",
            "  inflating: dataset/Train/Covid-19/COVID-19(167).png  \n",
            "  inflating: dataset/Train/Covid-19/COVID-19(168).png  \n",
            "  inflating: dataset/Train/Covid-19/COVID-19(169).png  \n",
            "  inflating: dataset/Train/Covid-19/COVID-19(170).png  \n",
            "  inflating: dataset/Train/Covid-19/COVID-19(171).png  \n",
            "  inflating: dataset/Train/Covid-19/COVID-19(173).png  \n",
            "  inflating: dataset/Train/Covid-19/COVID-19(175).png  \n",
            "  inflating: dataset/Train/Covid-19/COVID-19(176).png  \n",
            "  inflating: dataset/Train/Covid-19/COVID-19(177).png  \n",
            "  inflating: dataset/Train/Covid-19/COVID-19(178).png  \n",
            "  inflating: dataset/Train/Covid-19/COVID-19(179).png  \n",
            "  inflating: dataset/Train/Covid-19/COVID-19(180).png  \n",
            "  inflating: dataset/Train/Covid-19/COVID-19(184).png  \n",
            "  inflating: dataset/Train/Covid-19/COVID-19(185).png  \n",
            "  inflating: dataset/Train/Covid-19/COVID-19(187).png  \n",
            "  inflating: dataset/Train/Covid-19/COVID-19(188).png  \n",
            "  inflating: dataset/Train/Covid-19/COVID-19(189).png  \n",
            "  inflating: dataset/Train/Covid-19/COVID-19(190).png  \n",
            "  inflating: dataset/Train/Covid-19/COVID-19(191).png  \n",
            "  inflating: dataset/Train/Covid-19/COVID-19(192).png  \n",
            "  inflating: dataset/Train/Covid-19/COVID-19(193).png  \n",
            "  inflating: dataset/Train/Covid-19/COVID-19(194).png  \n",
            "  inflating: dataset/Train/Covid-19/COVID-19(195).png  \n",
            "  inflating: dataset/Train/Covid-19/COVID-19(197).png  \n",
            "  inflating: dataset/Train/Covid-19/COVID-19(198).png  \n",
            "  inflating: dataset/Train/Covid-19/COVID-19(199).png  \n",
            "  inflating: dataset/Train/Covid-19/COVID-19(202).png  \n",
            "  inflating: dataset/Train/Covid-19/COVID-19(203).png  \n",
            "  inflating: dataset/Train/Covid-19/COVID-19(204).png  \n",
            "  inflating: dataset/Train/Covid-19/COVID-19(205).png  \n",
            "  inflating: dataset/Train/Covid-19/COVID-19(206).png  \n",
            "  inflating: dataset/Train/Covid-19/COVID-19(207).png  \n",
            "  inflating: dataset/Train/Covid-19/COVID-19(208).png  \n",
            "  inflating: dataset/Train/Covid-19/COVID-19(209).png  \n",
            "  inflating: dataset/Train/Covid-19/COVID-19(210).png  \n",
            "  inflating: dataset/Train/Covid-19/COVID-19(212).png  \n",
            "  inflating: dataset/Train/Covid-19/COVID-19(213).png  \n",
            "  inflating: dataset/Train/Covid-19/COVID-19(214).png  \n",
            "  inflating: dataset/Train/Covid-19/COVID-19(215).png  \n",
            "  inflating: dataset/Train/Covid-19/COVID-19(216).png  \n",
            "  inflating: dataset/Train/Covid-19/COVID-19(218).png  \n",
            "  inflating: dataset/Train/Covid-19/COVID-19(219).png  \n",
            "   creating: dataset/Train/Normal/\n",
            "  inflating: dataset/Train/Normal/NORMAL (1288).png  \n",
            "  inflating: dataset/Train/Normal/NORMAL (1289).png  \n",
            "  inflating: dataset/Train/Normal/NORMAL (1290).png  \n",
            "  inflating: dataset/Train/Normal/NORMAL (1291).png  \n",
            "  inflating: dataset/Train/Normal/NORMAL (1292).png  \n",
            "  inflating: dataset/Train/Normal/NORMAL (1293).png  \n",
            "  inflating: dataset/Train/Normal/NORMAL (1294).png  \n",
            "  inflating: dataset/Train/Normal/NORMAL (1295).png  \n",
            "  inflating: dataset/Train/Normal/NORMAL (1296).png  \n",
            "  inflating: dataset/Train/Normal/NORMAL (1297).png  \n",
            "  inflating: dataset/Train/Normal/NORMAL (1298).png  \n",
            "  inflating: dataset/Train/Normal/NORMAL (1301).png  \n",
            "  inflating: dataset/Train/Normal/NORMAL (1302).png  \n",
            "  inflating: dataset/Train/Normal/NORMAL (1303).png  \n",
            "  inflating: dataset/Train/Normal/NORMAL (1304).png  \n",
            "  inflating: dataset/Train/Normal/NORMAL (1305).png  \n",
            "  inflating: dataset/Train/Normal/NORMAL (1306).png  \n",
            "  inflating: dataset/Train/Normal/NORMAL (1307).png  \n",
            "  inflating: dataset/Train/Normal/NORMAL (1308).png  \n",
            "  inflating: dataset/Train/Normal/NORMAL (1309).png  \n",
            "  inflating: dataset/Train/Normal/NORMAL (1312).png  \n",
            "  inflating: dataset/Train/Normal/NORMAL (1313).png  \n",
            "  inflating: dataset/Train/Normal/NORMAL (1314).png  \n",
            "  inflating: dataset/Train/Normal/NORMAL (1315).png  \n",
            "  inflating: dataset/Train/Normal/NORMAL (1316).png  \n",
            "  inflating: dataset/Train/Normal/NORMAL (1317).png  \n",
            "  inflating: dataset/Train/Normal/NORMAL (1318).png  \n",
            "  inflating: dataset/Train/Normal/NORMAL (1319).png  \n",
            "  inflating: dataset/Train/Normal/NORMAL (1320).png  \n",
            "  inflating: dataset/Train/Normal/NORMAL (1323).png  \n",
            "  inflating: dataset/Train/Normal/NORMAL (1324).png  \n",
            "  inflating: dataset/Train/Normal/NORMAL (1325).png  \n",
            "  inflating: dataset/Train/Normal/NORMAL (1326).png  \n",
            "  inflating: dataset/Train/Normal/NORMAL (1327).png  \n",
            "  inflating: dataset/Train/Normal/NORMAL (1328).png  \n",
            "  inflating: dataset/Train/Normal/NORMAL (1329).png  \n",
            "  inflating: dataset/Train/Normal/NORMAL (1330).png  \n",
            "  inflating: dataset/Train/Normal/NORMAL (1331).png  \n",
            "  inflating: dataset/Train/Normal/NORMAL (1334).png  \n",
            "  inflating: dataset/Train/Normal/NORMAL (1335).png  \n",
            "  inflating: dataset/Train/Normal/NORMAL (1336).png  \n",
            "  inflating: dataset/Train/Normal/NORMAL (1337).png  \n",
            "  inflating: dataset/Train/Normal/NORMAL (1338).png  \n",
            "  inflating: dataset/Train/Normal/NORMAL (1339).png  \n",
            "  inflating: dataset/Train/Normal/NORMAL (1340).png  \n",
            "  inflating: dataset/Train/Normal/NORMAL (1341).png  \n",
            "  inflating: dataset/Train/Normal/NORMAL (267).png  \n",
            "  inflating: dataset/Train/Normal/NORMAL (268).png  \n",
            "  inflating: dataset/Train/Normal/NORMAL (269).png  \n",
            "  inflating: dataset/Train/Normal/NORMAL (270).png  \n",
            "  inflating: dataset/Train/Normal/NORMAL (271).png  \n",
            "  inflating: dataset/Train/Normal/NORMAL (272).png  \n",
            "  inflating: dataset/Train/Normal/NORMAL (273).png  \n",
            "  inflating: dataset/Train/Normal/NORMAL (274).png  \n",
            "  inflating: dataset/Train/Normal/NORMAL (275).png  \n",
            "  inflating: dataset/Train/Normal/NORMAL (278).png  \n",
            "  inflating: dataset/Train/Normal/NORMAL (279).png  \n",
            "  inflating: dataset/Train/Normal/NORMAL (280).png  \n",
            "  inflating: dataset/Train/Normal/NORMAL (281).png  \n",
            "  inflating: dataset/Train/Normal/NORMAL (282).png  \n",
            "  inflating: dataset/Train/Normal/NORMAL (283).png  \n",
            "  inflating: dataset/Train/Normal/NORMAL (284).png  \n",
            "  inflating: dataset/Train/Normal/NORMAL (285).png  \n",
            "  inflating: dataset/Train/Normal/NORMAL (286).png  \n",
            "  inflating: dataset/Train/Normal/NORMAL (289).png  \n",
            "  inflating: dataset/Train/Normal/NORMAL (290).png  \n",
            "  inflating: dataset/Train/Normal/NORMAL (291).png  \n",
            "  inflating: dataset/Train/Normal/NORMAL (292).png  \n",
            "  inflating: dataset/Train/Normal/NORMAL (293).png  \n",
            "  inflating: dataset/Train/Normal/NORMAL (294).png  \n",
            "  inflating: dataset/Train/Normal/NORMAL (295).png  \n",
            "  inflating: dataset/Train/Normal/NORMAL (296).png  \n",
            "  inflating: dataset/Train/Normal/NORMAL (297).png  \n",
            "  inflating: dataset/Train/Normal/NORMAL (300).png  \n",
            "  inflating: dataset/Train/Normal/NORMAL (301).png  \n",
            "  inflating: dataset/Train/Normal/NORMAL (302).png  \n",
            "  inflating: dataset/Train/Normal/NORMAL (303).png  \n",
            "  inflating: dataset/Train/Normal/NORMAL (304).png  \n",
            "  inflating: dataset/Train/Normal/NORMAL (305).png  \n",
            "  inflating: dataset/Train/Normal/NORMAL (306).png  \n",
            "  inflating: dataset/Train/Normal/NORMAL (307).png  \n",
            "  inflating: dataset/Train/Normal/NORMAL (308).png  \n",
            "  inflating: dataset/Train/Normal/NORMAL (311).png  \n",
            "  inflating: dataset/Train/Normal/NORMAL (312).png  \n",
            "  inflating: dataset/Train/Normal/NORMAL (313).png  \n",
            "  inflating: dataset/Train/Normal/NORMAL (314).png  \n",
            "  inflating: dataset/Train/Normal/NORMAL (315).png  \n",
            "  inflating: dataset/Train/Normal/NORMAL (316).png  \n",
            "  inflating: dataset/Train/Normal/NORMAL (317).png  \n",
            "  inflating: dataset/Train/Normal/NORMAL (318).png  \n",
            "  inflating: dataset/Train/Normal/NORMAL (319).png  \n",
            "  inflating: dataset/Train/Normal/NORMAL (343).png  \n",
            "  inflating: dataset/Train/Normal/NORMAL (344).png  \n",
            "  inflating: dataset/Train/Normal/NORMAL (345).png  \n",
            "  inflating: dataset/Train/Normal/NORMAL (346).png  \n",
            "  inflating: dataset/Train/Normal/NORMAL (347).png  \n",
            "  inflating: dataset/Train/Normal/NORMAL (348).png  \n",
            "  inflating: dataset/Train/Normal/NORMAL (349).png  \n",
            "  inflating: dataset/Train/Normal/NORMAL (350).png  \n",
            "  inflating: dataset/Train/Normal/NORMAL (351).png  \n",
            "  inflating: dataset/Train/Normal/NORMAL (352).png  \n",
            "  inflating: dataset/Train/Normal/NORMAL (354).png  \n",
            "  inflating: dataset/Train/Normal/NORMAL (355).png  \n",
            "  inflating: dataset/Train/Normal/NORMAL (356).png  \n",
            "  inflating: dataset/Train/Normal/NORMAL (357).png  \n",
            "  inflating: dataset/Train/Normal/NORMAL (358).png  \n",
            "  inflating: dataset/Train/Normal/NORMAL (359).png  \n",
            "  inflating: dataset/Train/Normal/NORMAL (360).png  \n",
            "  inflating: dataset/Train/Normal/NORMAL (361).png  \n",
            "  inflating: dataset/Train/Normal/NORMAL (362).png  \n",
            "  inflating: dataset/Train/Normal/NORMAL (363).png  \n",
            "  inflating: dataset/Train/Normal/NORMAL (365).png  \n",
            "  inflating: dataset/Train/Normal/NORMAL (366).png  \n",
            "  inflating: dataset/Train/Normal/NORMAL (367).png  \n",
            "  inflating: dataset/Train/Normal/NORMAL (368).png  \n",
            "  inflating: dataset/Train/Normal/NORMAL (369).png  \n",
            "  inflating: dataset/Train/Normal/NORMAL (370).png  \n",
            "  inflating: dataset/Train/Normal/NORMAL (371).png  \n",
            "  inflating: dataset/Train/Normal/NORMAL (372).png  \n",
            "  inflating: dataset/Train/Normal/NORMAL (373).png  \n",
            "  inflating: dataset/Train/Normal/NORMAL (374).png  \n",
            "  inflating: dataset/Train/Normal/NORMAL (376).png  \n",
            "  inflating: dataset/Train/Normal/NORMAL (377).png  \n",
            "  inflating: dataset/Train/Normal/NORMAL (378).png  \n",
            "  inflating: dataset/Train/Normal/NORMAL (379).png  \n",
            "  inflating: dataset/Train/Normal/NORMAL (380).png  \n",
            "  inflating: dataset/Train/Normal/NORMAL (381).png  \n",
            "  inflating: dataset/Train/Normal/NORMAL (382).png  \n",
            "  inflating: dataset/Train/Normal/NORMAL (383).png  \n",
            "  inflating: dataset/Train/Normal/NORMAL (384).png  \n",
            "  inflating: dataset/Train/Normal/NORMAL (385).png  \n",
            "  inflating: dataset/Train/Normal/NORMAL (387).png  \n",
            "  inflating: dataset/Train/Normal/NORMAL (388).png  \n",
            "  inflating: dataset/Train/Normal/NORMAL (389).png  \n",
            "  inflating: dataset/Train/Normal/NORMAL (390).png  \n",
            "  inflating: dataset/Train/Normal/NORMAL (391).png  \n",
            "  inflating: dataset/Train/Normal/NORMAL (392).png  \n",
            "  inflating: dataset/Train/Normal/NORMAL (393).png  \n",
            "  inflating: dataset/Train/Normal/NORMAL (394).png  \n",
            "  inflating: dataset/Train/Normal/NORMAL (395).png  \n",
            "  inflating: dataset/Train/Normal/NORMAL (396).png  \n",
            "  inflating: dataset/Train/Normal/NORMAL (398).png  \n",
            "  inflating: dataset/Train/Normal/NORMAL (399).png  \n",
            "  inflating: dataset/Train/Normal/NORMAL (400).png  \n",
            "  inflating: dataset/Train/Normal/NORMAL (401).png  \n",
            "  inflating: dataset/Train/Normal/NORMAL (402).png  \n",
            "  inflating: dataset/Train/Normal/NORMAL (403).png  \n",
            "  inflating: dataset/Train/Normal/NORMAL (404).png  \n",
            "  inflating: dataset/Train/Normal/NORMAL (405).png  \n",
            "  inflating: dataset/Train/Normal/NORMAL (406).png  \n",
            "  inflating: dataset/Train/Normal/NORMAL (407).png  \n",
            "  inflating: dataset/Train/Normal/NORMAL (540).png  \n",
            "  inflating: dataset/Train/Normal/NORMAL (541).png  \n",
            "  inflating: dataset/Train/Normal/NORMAL (542).png  \n",
            "  inflating: dataset/Train/Normal/NORMAL (543).png  \n",
            "  inflating: dataset/Train/Normal/NORMAL (544).png  \n",
            "  inflating: dataset/Train/Normal/NORMAL (545).png  \n",
            "  inflating: dataset/Train/Normal/NORMAL (546).png  \n",
            "  inflating: dataset/Train/Normal/NORMAL (547).png  \n",
            "  inflating: dataset/Train/Normal/NORMAL (548).png  \n",
            "  inflating: dataset/Train/Normal/NORMAL (549).png  \n",
            "  inflating: dataset/Train/Normal/NORMAL (551).png  \n",
            "  inflating: dataset/Train/Normal/NORMAL (552).png  \n",
            "  inflating: dataset/Train/Normal/NORMAL (553).png  \n",
            "  inflating: dataset/Train/Normal/NORMAL (554).png  \n",
            "  inflating: dataset/Train/Normal/NORMAL (555).png  \n",
            "  inflating: dataset/Train/Normal/NORMAL (556).png  \n",
            "  inflating: dataset/Train/Normal/NORMAL (557).png  \n",
            "  inflating: dataset/Train/Normal/NORMAL (558).png  \n",
            "  inflating: dataset/Train/Normal/NORMAL (559).png  \n",
            "  inflating: dataset/Train/Normal/NORMAL (560).png  \n",
            "  inflating: dataset/Train/Normal/NORMAL (562).png  \n",
            "  inflating: dataset/Train/Normal/NORMAL (563).png  \n",
            "  inflating: dataset/Train/Normal/NORMAL (564).png  \n",
            "  inflating: dataset/Train/Normal/NORMAL (565).png  \n",
            "  inflating: dataset/Train/Normal/NORMAL (566).png  \n",
            "  inflating: dataset/Train/Normal/NORMAL (567).png  \n",
            "  inflating: dataset/Train/Normal/NORMAL (568).png  \n",
            "  inflating: dataset/Train/Normal/NORMAL (569).png  \n",
            "  inflating: dataset/Train/Normal/NORMAL (570).png  \n",
            "  inflating: dataset/Train/Normal/NORMAL (571).png  \n",
            "  inflating: dataset/Train/Normal/NORMAL (573).png  \n",
            "  inflating: dataset/Train/Normal/NORMAL (574).png  \n",
            "  inflating: dataset/Train/Normal/NORMAL (575).png  \n",
            "  inflating: dataset/Train/Normal/NORMAL (576).png  \n",
            "  inflating: dataset/Train/Normal/NORMAL (577).png  \n",
            "  inflating: dataset/Train/Normal/NORMAL (578).png  \n",
            "  inflating: dataset/Train/Normal/NORMAL (579).png  \n",
            "  inflating: dataset/Train/Normal/NORMAL (580).png  \n",
            "  inflating: dataset/Train/Normal/NORMAL (581).png  \n",
            "  inflating: dataset/Train/Normal/NORMAL (582).png  \n",
            "  inflating: dataset/Train/Normal/NORMAL (584).png  \n",
            "  inflating: dataset/Train/Normal/NORMAL (585).png  \n",
            "  inflating: dataset/Train/Normal/NORMAL (586).png  \n",
            "  inflating: dataset/Train/Normal/NORMAL (587).png  \n",
            "  inflating: dataset/Train/Normal/NORMAL (588).png  \n",
            "  inflating: dataset/Train/Normal/NORMAL (589).png  \n",
            "  inflating: dataset/Train/Normal/NORMAL (590).png  \n",
            "  inflating: dataset/Train/Normal/NORMAL (591).png  \n",
            "  inflating: dataset/Train/Normal/NORMAL (592).png  \n",
            "  inflating: dataset/Train/Normal/NORMAL (593).png  \n",
            "  inflating: dataset/Train/Normal/NORMAL (595).png  \n",
            "  inflating: dataset/Train/Normal/NORMAL (596).png  \n",
            "  inflating: dataset/Train/Normal/NORMAL (597).png  \n",
            "  inflating: dataset/Train/Normal/NORMAL (598).png  \n",
            "  inflating: dataset/Train/Normal/NORMAL (599).png  \n",
            "  inflating: dataset/Train/Normal/NORMAL (600).png  \n",
            "  inflating: dataset/Train/Normal/NORMAL (601).png  \n",
            "  inflating: dataset/Train/Normal/NORMAL (602).png  \n",
            "  inflating: dataset/Train/Normal/NORMAL (603).png  \n",
            "  inflating: dataset/Train/Normal/NORMAL (604).png  \n",
            "  inflating: dataset/Train/Normal/NORMAL (815).png  \n",
            "  inflating: dataset/Train/Normal/NORMAL (816).png  \n",
            "  inflating: dataset/Train/Normal/NORMAL (817).png  \n",
            "  inflating: dataset/Train/Normal/NORMAL (818).png  \n",
            "  inflating: dataset/Train/Normal/NORMAL (819).png  \n",
            "  inflating: dataset/Train/Normal/NORMAL (820).png  \n",
            "  inflating: dataset/Train/Normal/NORMAL (821).png  \n",
            "  inflating: dataset/Train/Normal/NORMAL (822).png  \n",
            "  inflating: dataset/Train/Normal/NORMAL (823).png  \n",
            "  inflating: dataset/Train/Normal/NORMAL (824).png  \n",
            "  inflating: dataset/Train/Normal/NORMAL (825).png  \n",
            "  inflating: dataset/Train/Normal/NORMAL (826).png  \n",
            "  inflating: dataset/Train/Normal/NORMAL (827).png  \n",
            "  inflating: dataset/Train/Normal/NORMAL (828).png  \n",
            "  inflating: dataset/Train/Normal/NORMAL (829).png  \n",
            "  inflating: dataset/Train/Normal/NORMAL (830).png  \n",
            "  inflating: dataset/Train/Normal/NORMAL (831).png  \n",
            "  inflating: dataset/Train/Normal/NORMAL (832).png  \n",
            "  inflating: dataset/Train/Normal/NORMAL (833).png  \n",
            "  inflating: dataset/Train/Normal/NORMAL (834).png  \n",
            "  inflating: dataset/Train/Normal/NORMAL (835).png  \n",
            "  inflating: dataset/Train/Normal/NORMAL (836).png  \n",
            "  inflating: dataset/Train/Normal/NORMAL (837).png  \n",
            "  inflating: dataset/Train/Normal/NORMAL (838).png  \n",
            "  inflating: dataset/Train/Normal/NORMAL (839).png  \n",
            "  inflating: dataset/Train/Normal/NORMAL (840).png  \n",
            "  inflating: dataset/Train/Normal/NORMAL (841).png  \n",
            "  inflating: dataset/Train/Normal/NORMAL (842).png  \n",
            "  inflating: dataset/Train/Normal/NORMAL (843).png  \n",
            "  inflating: dataset/Train/Normal/NORMAL (844).png  \n",
            "  inflating: dataset/Train/Normal/NORMAL (845).png  \n",
            "  inflating: dataset/Train/Normal/NORMAL (846).png  \n",
            "  inflating: dataset/Train/Normal/NORMAL (847).png  \n",
            "  inflating: dataset/Train/Normal/NORMAL (898).png  \n"
          ],
          "name": "stdout"
        }
      ]
    },
    {
      "cell_type": "code",
      "metadata": {
        "id": "OlWnbSdhEqLi"
      },
      "source": [
        "train_path = 'dataset/Train'\n",
        "Val_path = 'dataset/Test'"
      ],
      "execution_count": null,
      "outputs": []
    },
    {
      "cell_type": "code",
      "metadata": {
        "id": "5933dtxMHRRP"
      },
      "source": [
        "import numpy as np\n",
        "import matplotlib.pyplot as plt\n",
        "import keras\n",
        "from keras.layers import *\n",
        "from keras.models import *\n",
        "from keras.preprocessing import image"
      ],
      "execution_count": null,
      "outputs": []
    },
    {
      "cell_type": "code",
      "metadata": {
        "id": "GOGkgdHeHuCt"
      },
      "source": [
        "model = Sequential()\n",
        "model.add(Conv2D(32, kernel_size=(3,3), activation='relu', input_shape = (224,224,3)))\n",
        "model.add(Conv2D(64, (3,3), activation='relu'))\n",
        "model.add(MaxPooling2D(pool_size=(2,2)))\n",
        "model.add(Dropout(0.25))\n",
        "\n",
        "model.add(Conv2D(64, (3,3), activation='relu'))\n",
        "model.add(MaxPooling2D(pool_size=(2,2)))\n",
        "model.add(Dropout(0.25))\n",
        "\n",
        "model.add(Conv2D(128, (3,3), activation='relu'))\n",
        "model.add(MaxPooling2D(pool_size=(2,2)))\n",
        "model.add(Dropout(0.25))\n",
        "\n",
        "\n",
        "model.add(Flatten())\n",
        "model.add(Dense(64,activation='relu'))\n",
        "model.add(Dropout(0.5))\n",
        "model.add(Dense(1, activation='sigmoid'))\n",
        "\n",
        "model.compile(loss=keras.losses.binary_crossentropy, optimizer = 'adam', metrics = ['accuracy'])"
      ],
      "execution_count": null,
      "outputs": []
    },
    {
      "cell_type": "code",
      "metadata": {
        "colab": {
          "base_uri": "https://localhost:8080/"
        },
        "id": "DJ2uKNe-KR91",
        "outputId": "5e0426e2-f46f-4c20-90e1-264b1c737338"
      },
      "source": [
        "model.summary()"
      ],
      "execution_count": null,
      "outputs": [
        {
          "output_type": "stream",
          "text": [
            "Model: \"sequential\"\n",
            "_________________________________________________________________\n",
            "Layer (type)                 Output Shape              Param #   \n",
            "=================================================================\n",
            "conv2d (Conv2D)              (None, 222, 222, 32)      896       \n",
            "_________________________________________________________________\n",
            "conv2d_1 (Conv2D)            (None, 220, 220, 64)      18496     \n",
            "_________________________________________________________________\n",
            "max_pooling2d (MaxPooling2D) (None, 110, 110, 64)      0         \n",
            "_________________________________________________________________\n",
            "dropout (Dropout)            (None, 110, 110, 64)      0         \n",
            "_________________________________________________________________\n",
            "conv2d_2 (Conv2D)            (None, 108, 108, 64)      36928     \n",
            "_________________________________________________________________\n",
            "max_pooling2d_1 (MaxPooling2 (None, 54, 54, 64)        0         \n",
            "_________________________________________________________________\n",
            "dropout_1 (Dropout)          (None, 54, 54, 64)        0         \n",
            "_________________________________________________________________\n",
            "conv2d_3 (Conv2D)            (None, 52, 52, 128)       73856     \n",
            "_________________________________________________________________\n",
            "max_pooling2d_2 (MaxPooling2 (None, 26, 26, 128)       0         \n",
            "_________________________________________________________________\n",
            "dropout_2 (Dropout)          (None, 26, 26, 128)       0         \n",
            "_________________________________________________________________\n",
            "flatten (Flatten)            (None, 86528)             0         \n",
            "_________________________________________________________________\n",
            "dense (Dense)                (None, 64)                5537856   \n",
            "_________________________________________________________________\n",
            "dropout_3 (Dropout)          (None, 64)                0         \n",
            "_________________________________________________________________\n",
            "dense_1 (Dense)              (None, 1)                 65        \n",
            "=================================================================\n",
            "Total params: 5,668,097\n",
            "Trainable params: 5,668,097\n",
            "Non-trainable params: 0\n",
            "_________________________________________________________________\n"
          ],
          "name": "stdout"
        }
      ]
    },
    {
      "cell_type": "code",
      "metadata": {
        "id": "gE5FINe1K1qD"
      },
      "source": [
        "#Training\n",
        "train_data = image.ImageDataGenerator(rescale=1./255 , shear_range=0.2, zoom_range=0.2, horizontal_flip=True)\n",
        "test_dataset = image.ImageDataGenerator(rescale=1./255)"
      ],
      "execution_count": null,
      "outputs": []
    },
    {
      "cell_type": "code",
      "metadata": {
        "colab": {
          "base_uri": "https://localhost:8080/"
        },
        "id": "cbAr2FuSLsDv",
        "outputId": "3daa3daa-6690-4d9b-ac89-eb97d2afd6b6"
      },
      "source": [
        "train_gen = train_data.flow_from_directory('dataset/Train' , target_size=(224,224), batch_size=32, class_mode='binary')"
      ],
      "execution_count": null,
      "outputs": [
        {
          "output_type": "stream",
          "text": [
            "Found 487 images belonging to 2 classes.\n"
          ],
          "name": "stdout"
        }
      ]
    },
    {
      "cell_type": "code",
      "metadata": {
        "colab": {
          "base_uri": "https://localhost:8080/"
        },
        "id": "fcI-eO6MMXFb",
        "outputId": "03fca23e-c5f8-4c36-a384-bcd319c35dc2"
      },
      "source": [
        "train_gen.class_indices"
      ],
      "execution_count": null,
      "outputs": [
        {
          "output_type": "execute_result",
          "data": {
            "text/plain": [
              "{'Covid-19': 0, 'Normal': 1}"
            ]
          },
          "metadata": {
            "tags": []
          },
          "execution_count": 9
        }
      ]
    },
    {
      "cell_type": "code",
      "metadata": {
        "colab": {
          "base_uri": "https://localhost:8080/"
        },
        "id": "j27V9sEmMl0C",
        "outputId": "c59543b6-f079-4745-dbbb-27cedf02c2c5"
      },
      "source": [
        "test_gen = train_data.flow_from_directory('dataset/Test' , target_size=(224,224), batch_size=32, class_mode='binary')"
      ],
      "execution_count": null,
      "outputs": [
        {
          "output_type": "stream",
          "text": [
            "Found 23 images belonging to 2 classes.\n"
          ],
          "name": "stdout"
        }
      ]
    },
    {
      "cell_type": "code",
      "metadata": {
        "colab": {
          "base_uri": "https://localhost:8080/"
        },
        "id": "i8rMzN3YND40",
        "outputId": "86ee1928-51b6-45b6-d325-c72e394191ea"
      },
      "source": [
        "hist = model.fit_generator(\n",
        "    train_gen, \n",
        "    steps_per_epoch = 8,\n",
        "    epochs = 20,\n",
        "    validation_data = test_gen, \n",
        "    validation_steps = 2\n",
        ")"
      ],
      "execution_count": null,
      "outputs": [
        {
          "output_type": "stream",
          "text": [
            "WARNING:tensorflow:From <ipython-input-11-264e1cd4c91a>:6: Model.fit_generator (from tensorflow.python.keras.engine.training) is deprecated and will be removed in a future version.\n",
            "Instructions for updating:\n",
            "Please use Model.fit, which supports generators.\n",
            "Epoch 1/20\n",
            "8/8 [==============================] - ETA: 0s - loss: 1.2558 - accuracy: 0.6017WARNING:tensorflow:Your input ran out of data; interrupting training. Make sure that your dataset or generator can generate at least `steps_per_epoch * epochs` batches (in this case, 2 batches). You may need to use the repeat() function when building your dataset.\n",
            "8/8 [==============================] - 8s 947ms/step - loss: 1.2558 - accuracy: 0.6017 - val_loss: 0.6904 - val_accuracy: 0.6522\n",
            "Epoch 2/20\n",
            "8/8 [==============================] - 6s 758ms/step - loss: 0.6781 - accuracy: 0.5977\n",
            "Epoch 3/20\n",
            "8/8 [==============================] - 6s 776ms/step - loss: 0.5386 - accuracy: 0.7461\n",
            "Epoch 4/20\n",
            "8/8 [==============================] - 6s 759ms/step - loss: 0.4281 - accuracy: 0.8008\n",
            "Epoch 5/20\n",
            "8/8 [==============================] - 6s 735ms/step - loss: 0.3572 - accuracy: 0.8398\n",
            "Epoch 6/20\n",
            "8/8 [==============================] - 6s 774ms/step - loss: 0.2759 - accuracy: 0.8828\n",
            "Epoch 7/20\n",
            "8/8 [==============================] - 6s 741ms/step - loss: 0.2740 - accuracy: 0.8874\n",
            "Epoch 8/20\n",
            "8/8 [==============================] - 5s 675ms/step - loss: 0.2773 - accuracy: 0.9048\n",
            "Epoch 9/20\n",
            "8/8 [==============================] - 6s 750ms/step - loss: 0.1970 - accuracy: 0.9297\n",
            "Epoch 10/20\n",
            "8/8 [==============================] - 5s 662ms/step - loss: 0.2012 - accuracy: 0.9351\n",
            "Epoch 11/20\n",
            "8/8 [==============================] - 6s 761ms/step - loss: 0.1531 - accuracy: 0.9336\n",
            "Epoch 12/20\n",
            "8/8 [==============================] - 6s 776ms/step - loss: 0.1510 - accuracy: 0.9492\n",
            "Epoch 13/20\n",
            "8/8 [==============================] - 6s 761ms/step - loss: 0.1473 - accuracy: 0.9492\n",
            "Epoch 14/20\n",
            "8/8 [==============================] - 6s 771ms/step - loss: 0.1594 - accuracy: 0.9375\n",
            "Epoch 15/20\n",
            "8/8 [==============================] - 6s 752ms/step - loss: 0.1564 - accuracy: 0.9531\n",
            "Epoch 16/20\n",
            "8/8 [==============================] - 6s 755ms/step - loss: 0.1338 - accuracy: 0.9492\n",
            "Epoch 17/20\n",
            "8/8 [==============================] - 6s 744ms/step - loss: 0.1974 - accuracy: 0.9394\n",
            "Epoch 18/20\n",
            "8/8 [==============================] - 6s 781ms/step - loss: 0.1506 - accuracy: 0.9531\n",
            "Epoch 19/20\n",
            "8/8 [==============================] - 5s 655ms/step - loss: 0.1697 - accuracy: 0.9481\n",
            "Epoch 20/20\n",
            "8/8 [==============================] - 5s 686ms/step - loss: 0.0853 - accuracy: 0.9740\n"
          ],
          "name": "stdout"
        }
      ]
    },
    {
      "cell_type": "code",
      "metadata": {
        "id": "fAhX-QjxlPPS"
      },
      "source": [
        ""
      ],
      "execution_count": null,
      "outputs": []
    },
    {
      "cell_type": "code",
      "metadata": {
        "id": "rABUNgrcOLl3"
      },
      "source": [
        "model.save(\"Covid_model.h5\")"
      ],
      "execution_count": null,
      "outputs": []
    },
    {
      "cell_type": "code",
      "metadata": {
        "colab": {
          "base_uri": "https://localhost:8080/"
        },
        "id": "VHIHp2cnCy12",
        "outputId": "bb62cf5c-0203-41b8-ae98-c82a93543565"
      },
      "source": [
        "model.evaluate_generator(train_gen)"
      ],
      "execution_count": null,
      "outputs": [
        {
          "output_type": "stream",
          "text": [
            "WARNING:tensorflow:From <ipython-input-13-f4308831b76d>:1: Model.evaluate_generator (from tensorflow.python.keras.engine.training) is deprecated and will be removed in a future version.\n",
            "Instructions for updating:\n",
            "Please use Model.evaluate, which supports generators.\n"
          ],
          "name": "stdout"
        },
        {
          "output_type": "execute_result",
          "data": {
            "text/plain": [
              "[0.10022928565740585, 0.9691991806030273]"
            ]
          },
          "metadata": {
            "tags": []
          },
          "execution_count": 13
        }
      ]
    },
    {
      "cell_type": "code",
      "metadata": {
        "id": "NankuGNenDqe"
      },
      "source": [
        "from PIL import Image\n",
        "img1 = Image.open('/content/dataset/Train/Covid-19/COVID-19 (43).png')\n",
        "img1.save(\"/content/dataset/converted_image/COVID-19 (43).jpg\")"
      ],
      "execution_count": null,
      "outputs": []
    },
    {
      "cell_type": "code",
      "metadata": {
        "id": "h_A-SL-qnDpP"
      },
      "source": [
        ""
      ],
      "execution_count": null,
      "outputs": []
    },
    {
      "cell_type": "code",
      "metadata": {
        "id": "lM-neofREPBN"
      },
      "source": [
        "test_image = image.load_img('/content/dataset/converted_image/COVID-19 (43).jpg' , target_size = (224,224))\n",
        "test_image = image.img_to_array(test_image)\n",
        "test_image = np.expand_dims(test_image , axis=0)\n",
        "res = model.predict(test_image)"
      ],
      "execution_count": null,
      "outputs": []
    },
    {
      "cell_type": "code",
      "metadata": {
        "colab": {
          "base_uri": "https://localhost:8080/"
        },
        "id": "hgCW9CFpmZUg",
        "outputId": "3c283a76-8dee-4092-c85f-de6bc3766047"
      },
      "source": [
        "res"
      ],
      "execution_count": null,
      "outputs": [
        {
          "output_type": "execute_result",
          "data": {
            "text/plain": [
              "array([[0.]], dtype=float32)"
            ]
          },
          "metadata": {
            "tags": []
          },
          "execution_count": 30
        }
      ]
    },
    {
      "cell_type": "code",
      "metadata": {
        "id": "RbIAbhAcmeub"
      },
      "source": [
        ""
      ],
      "execution_count": null,
      "outputs": []
    }
  ]
}